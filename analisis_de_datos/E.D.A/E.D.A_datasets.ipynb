{
 "cells": [
  {
   "cell_type": "markdown",
   "metadata": {},
   "source": [
    "# E.D.A Datasets "
   ]
  },
  {
   "cell_type": "markdown",
   "metadata": {},
   "source": [
    "En este jupyter notebook se va a realizar el E.D.A a los 5 Datasets proporcionados con el objetivo de comprender, analizar y limpiar su contenido pra posterioprmente realizar un entrenemaiento del modelo predictivo  "
   ]
  },
  {
   "cell_type": "markdown",
   "metadata": {},
   "source": [
    "#### Importamos las librerias necesarias "
   ]
  },
  {
   "cell_type": "code",
   "execution_count": 1,
   "metadata": {},
   "outputs": [],
   "source": [
    "import pandas as pd \n",
    "import matplotlib.pyplot as plt\n",
    "import seaborn as sns \n",
    "import numpy as np"
   ]
  },
  {
   "cell_type": "markdown",
   "metadata": {},
   "source": [
    "Puede instalar las librerias ejecutando el siguiente comando en la terminal: pip install -r requirements.txt\n"
   ]
  },
  {
   "cell_type": "markdown",
   "metadata": {},
   "source": [
    "#### Añadimos el directorio raiz al sys.path para facilitar importaciones "
   ]
  },
  {
   "cell_type": "code",
   "execution_count": 11,
   "metadata": {},
   "outputs": [
    {
     "name": "stdout",
     "output_type": "stream",
     "text": [
      "Directorio de trabajo actual después del cambio: c:\\Users\\mirlo\\workshop3\n"
     ]
    }
   ],
   "source": [
    "import os\n",
    "\n",
    "notebook_dir = os.getcwd()\n",
    "root_dir = os.path.abspath(os.path.join(notebook_dir, '..'))\n",
    "os.chdir(root_dir)\n",
    "\n",
    "print(\"Directorio de trabajo actual después del cambio:\", os.getcwd())"
   ]
  },
  {
   "cell_type": "markdown",
   "metadata": {},
   "source": [
    "Si a este codigo lo ejecutas mas de una vez puede que empiese a pasear por tu directorio lo que puede generar errores en las importaiones, si te ocurre reinicia el Kernel y vuelvelo a ejecutar."
   ]
  },
  {
   "cell_type": "markdown",
   "metadata": {},
   "source": [
    "#### Cargamos los Datasets a Dataframes  "
   ]
  },
  {
   "cell_type": "markdown",
   "metadata": {},
   "source": [
    "Dataset 2015"
   ]
  },
  {
   "cell_type": "code",
   "execution_count": 18,
   "metadata": {},
   "outputs": [],
   "source": [
    "data_2015 = pd.read_csv(r'Data\\2015.csv', delimiter=',')"
   ]
  },
  {
   "cell_type": "markdown",
   "metadata": {},
   "source": [
    "Dataset 2016"
   ]
  },
  {
   "cell_type": "code",
   "execution_count": 19,
   "metadata": {},
   "outputs": [],
   "source": [
    "data_2016 = pd.read_csv(r'Data\\2016.csv', delimiter=',')"
   ]
  },
  {
   "cell_type": "markdown",
   "metadata": {},
   "source": [
    "Dataset 2017 "
   ]
  },
  {
   "cell_type": "code",
   "execution_count": 20,
   "metadata": {},
   "outputs": [],
   "source": [
    "data_2017 = pd.read_csv(r'Data\\2017.csv', delimiter=',')"
   ]
  },
  {
   "cell_type": "markdown",
   "metadata": {},
   "source": [
    "Dataset 2018"
   ]
  },
  {
   "cell_type": "code",
   "execution_count": 21,
   "metadata": {},
   "outputs": [],
   "source": [
    "data_2018 = pd.read_csv(r'Data\\2018.csv', delimiter=',')"
   ]
  },
  {
   "cell_type": "markdown",
   "metadata": {},
   "source": [
    "Dataset 2019"
   ]
  },
  {
   "cell_type": "code",
   "execution_count": 22,
   "metadata": {},
   "outputs": [],
   "source": [
    "data_2019 = pd.read_csv(r'Data\\2019.csv', delimiter=',')"
   ]
  },
  {
   "cell_type": "markdown",
   "metadata": {},
   "source": [
    "#### Miramos la informacion de los datasets "
   ]
  },
  {
   "cell_type": "markdown",
   "metadata": {},
   "source": [
    "Los archivos csv contienen informacion relacionadas con la felicidad o bienestar en varios países o regiones."
   ]
  },
  {
   "cell_type": "markdown",
   "metadata": {},
   "source": [
    "##### Dataset 2015"
   ]
  },
  {
   "cell_type": "code",
   "execution_count": 23,
   "metadata": {},
   "outputs": [
    {
     "name": "stdout",
     "output_type": "stream",
     "text": [
      "<class 'pandas.core.frame.DataFrame'>\n",
      "RangeIndex: 158 entries, 0 to 157\n",
      "Data columns (total 12 columns):\n",
      " #   Column                         Non-Null Count  Dtype  \n",
      "---  ------                         --------------  -----  \n",
      " 0   Country                        158 non-null    object \n",
      " 1   Region                         158 non-null    object \n",
      " 2   Happiness Rank                 158 non-null    int64  \n",
      " 3   Happiness Score                158 non-null    float64\n",
      " 4   Standard Error                 158 non-null    float64\n",
      " 5   Economy (GDP per Capita)       158 non-null    float64\n",
      " 6   Family                         158 non-null    float64\n",
      " 7   Health (Life Expectancy)       158 non-null    float64\n",
      " 8   Freedom                        158 non-null    float64\n",
      " 9   Trust (Government Corruption)  158 non-null    float64\n",
      " 10  Generosity                     158 non-null    float64\n",
      " 11  Dystopia Residual              158 non-null    float64\n",
      "dtypes: float64(9), int64(1), object(2)\n",
      "memory usage: 14.9+ KB\n"
     ]
    }
   ],
   "source": [
    "data_2015.info()"
   ]
  },
  {
   "cell_type": "markdown",
   "metadata": {},
   "source": [
    "Se puede ver que en el dataset hay 158 registros y tiene 12 columnas en total. \n",
    "\n",
    "Tiene 2 columnas de tipo object(lo que sugiere que contienen datos categóricos o cadenas de texto). Tiene 1 columna de tipo int64(Columnas de tipo numerico). Tiene 9 columnas de tipo float64(representa numeros con decimales)."
   ]
  },
  {
   "cell_type": "markdown",
   "metadata": {},
   "source": [
    "**Descripcion Columnas:**"
   ]
  },
  {
   "cell_type": "markdown",
   "metadata": {},
   "source": [
    "- **Country:** El nombre del país.\n",
    "- **Region:** La región geográfica en la que se encuentra el país.\n",
    "- **Happiness Rank:** La posición del país en el ranking de felicidad.\n",
    "- **Happiness Score:** La puntuación de felicidad del país, que se suele medir en una escala.\n",
    "- **Standard Error:** El error estándar de la puntuación de felicidad, que mide la variabilidad de la puntuación.\n",
    "- **Economy (GDP per Capita):** La medida del PIB per cápita, que refleja la economía del país.\n",
    "- **Family:** Un índice que representa la importancia de la familia en el bienestar del país.\n",
    "- **Health (Life Expectancy):** Un índice relacionado con la esperanza de vida y la salud general de la población.\n",
    "- **Freedom:** Un índice que refleja el nivel de libertad que disfrutan los ciudadanos del país.\n",
    "- **Trust (Government Corruption):** Un índice que mide la confianza de la población en el gobierno y la percepción de corrupción.\n",
    "- **Generosity:** Un índice que mide la generosidad de la población, como las donaciones y el voluntariado.\n",
    "- **Dystopia Residual:** Un valor que representa el índice de \"distopía\" o la percepción de una sociedad ideal, que se utiliza como base para el cálculo de otros índices."
   ]
  },
  {
   "cell_type": "markdown",
   "metadata": {},
   "source": [
    "##### Dataset 2016"
   ]
  },
  {
   "cell_type": "code",
   "execution_count": 24,
   "metadata": {},
   "outputs": [
    {
     "name": "stdout",
     "output_type": "stream",
     "text": [
      "<class 'pandas.core.frame.DataFrame'>\n",
      "RangeIndex: 157 entries, 0 to 156\n",
      "Data columns (total 13 columns):\n",
      " #   Column                         Non-Null Count  Dtype  \n",
      "---  ------                         --------------  -----  \n",
      " 0   Country                        157 non-null    object \n",
      " 1   Region                         157 non-null    object \n",
      " 2   Happiness Rank                 157 non-null    int64  \n",
      " 3   Happiness Score                157 non-null    float64\n",
      " 4   Lower Confidence Interval      157 non-null    float64\n",
      " 5   Upper Confidence Interval      157 non-null    float64\n",
      " 6   Economy (GDP per Capita)       157 non-null    float64\n",
      " 7   Family                         157 non-null    float64\n",
      " 8   Health (Life Expectancy)       157 non-null    float64\n",
      " 9   Freedom                        157 non-null    float64\n",
      " 10  Trust (Government Corruption)  157 non-null    float64\n",
      " 11  Generosity                     157 non-null    float64\n",
      " 12  Dystopia Residual              157 non-null    float64\n",
      "dtypes: float64(10), int64(1), object(2)\n",
      "memory usage: 16.1+ KB\n"
     ]
    }
   ],
   "source": [
    "data_2016.info()"
   ]
  },
  {
   "cell_type": "markdown",
   "metadata": {},
   "source": [
    "Se puede ver que en el dataset hay 157 registros y tiene 13 columnas en total. \n",
    "\n",
    "Tiene 2 columnas de tipo object(lo que sugiere que contienen datos categóricos o cadenas de texto). Tiene 1 columna de tipo int64(Columnas de tipo numerico). Tiene 10 columnas de tipo float64(representa numeros con decimales)."
   ]
  },
  {
   "cell_type": "markdown",
   "metadata": {},
   "source": [
    "**Descripcion de Columnas:**"
   ]
  },
  {
   "cell_type": "markdown",
   "metadata": {},
   "source": [
    "- **Country:** Nombre del país para el cual se están reportando los datos de felicidad.\n",
    "- **Region:** La región geográfica a la que pertenece el país. En este caso, todos los países listados pertenecen a \"Western Europe\" (Europa Occidental).\n",
    "- **Happiness Rank:** La clasificación del país en términos de felicidad, donde un número menor indica un nivel más alto de felicidad.\n",
    "- **Happiness Score:** La puntuación de felicidad del país, que generalmente se mide en una escala de 0 a 10. Esta puntuación refleja el bienestar subjetivo de la población.\n",
    "- **Lower Confidence Interval:** El límite inferior del intervalo de confianza para la puntuación de felicidad. Este intervalo indica el rango en el que es probable que se encuentre la verdadera puntuación de felicidad del país con un cierto nivel de confianza (generalmente 95%).\n",
    "- **Upper Confidence Interval:** El límite superior del intervalo de confianza para la puntuación de felicidad. Al igual que el límite inferior, proporciona un rango para la puntuación de felicidad con un cierto nivel de confianza.\n",
    "- **Economy (GDP per Capita):** Producto Interno Bruto (PIB) per cápita del país, que mide la riqueza económica promedio de los ciudadanos.\n",
    "- **Family:** Una medida del apoyo familiar percibido por los individuos en el país. Este valor se basa en encuestas sobre el bienestar social.\n",
    "- **Health (Life Expectancy):** La expectativa de vida en el país, que es un indicador importante de la salud general de la población.\n",
    "- **Freedom:** Un índice que mide la libertad que sienten los ciudadanos en el país para hacer lo que quieran, incluyendo la libertad económica y política.\n",
    "- **Trust (Government Corruption):** Una medida de la confianza de los ciudadanos en su gobierno, específicamente en relación con la corrupción. Este valor refleja el nivel de corrupción percibido en el país.\n",
    "- **Generosity:** Un índice que mide la generosidad de la población, que puede incluir donaciones a organizaciones benéficas y otros actos de altruismo.\n",
    "- **Dystopia Residual:** Este valor representa una puntuación teórica de \"distopía\" que sirve como referencia para comparar otros índices de felicidad. Se utiliza para ayudar a calibrar las puntuaciones de felicidad en relación con los peores escenarios posibles."
   ]
  },
  {
   "cell_type": "markdown",
   "metadata": {},
   "source": [
    "##### Dataset 2017"
   ]
  },
  {
   "cell_type": "code",
   "execution_count": 25,
   "metadata": {},
   "outputs": [
    {
     "name": "stdout",
     "output_type": "stream",
     "text": [
      "<class 'pandas.core.frame.DataFrame'>\n",
      "RangeIndex: 155 entries, 0 to 154\n",
      "Data columns (total 12 columns):\n",
      " #   Column                         Non-Null Count  Dtype  \n",
      "---  ------                         --------------  -----  \n",
      " 0   Country                        155 non-null    object \n",
      " 1   Happiness.Rank                 155 non-null    int64  \n",
      " 2   Happiness.Score                155 non-null    float64\n",
      " 3   Whisker.high                   155 non-null    float64\n",
      " 4   Whisker.low                    155 non-null    float64\n",
      " 5   Economy..GDP.per.Capita.       155 non-null    float64\n",
      " 6   Family                         155 non-null    float64\n",
      " 7   Health..Life.Expectancy.       155 non-null    float64\n",
      " 8   Freedom                        155 non-null    float64\n",
      " 9   Generosity                     155 non-null    float64\n",
      " 10  Trust..Government.Corruption.  155 non-null    float64\n",
      " 11  Dystopia.Residual              155 non-null    float64\n",
      "dtypes: float64(10), int64(1), object(1)\n",
      "memory usage: 14.7+ KB\n"
     ]
    }
   ],
   "source": [
    "data_2017.info()"
   ]
  },
  {
   "cell_type": "markdown",
   "metadata": {},
   "source": [
    "Se puede ver que en el dataset hay 155 registros y tiene 12 columnas en total. \n",
    "\n",
    "Tiene 1 columnas de tipo object(lo que sugiere que contienen datos categóricos o cadenas de texto). Tiene 1 columna de tipo int64(Columnas de tipo numerico). Tiene 10 columnas de tipo float64(representa numeros con decimales)."
   ]
  },
  {
   "cell_type": "markdown",
   "metadata": {},
   "source": [
    "**Descripcion de Columnas**"
   ]
  },
  {
   "cell_type": "markdown",
   "metadata": {},
   "source": [
    "- **Country:** Nombre del país.\n",
    "- **Happiness.Rank:** Posición del país en el ranking de felicidad, donde un número más bajo indica una mayor felicidad.\n",
    "- **Happiness.Score:** Puntuación de felicidad del país, en una escala de 0 a 10, donde valores más altos indican un mayor nivel de felicidad.\n",
    "- **Whisker.high:** Valor máximo en el rango de confianza superior para la puntuación de felicidad.\n",
    "- **Whisker.low:** Valor mínimo en el rango de confianza inferior para la puntuación de felicidad.\n",
    "- **Economy..GDP.per.Capita.:** PIB per cápita del país, que refleja el nivel de desarrollo económico.\n",
    "- **Family:** Valor que representa la calidad de las relaciones familiares y su impacto en la felicidad.\n",
    "- **Health..Life.Expectancy.:** Esperanza de vida al nacer, un indicador de la salud general de la población.\n",
    "- **Freedom:** Nivel de libertad percibido por los ciudadanos, que puede influir en la felicidad.\n",
    "- **Generosity:** Medida de la generosidad de los ciudadanos, que se refleja en donaciones y actos de ayuda.\n",
    "- **Trust..Government.Corruption.:** Nivel de confianza en el gobierno y la percepción de corrupción.\n",
    "- **Dystopia.Residual:** Valor que representa una \"residual\" de distopía, que se utiliza como un punto de referencia para calcular la felicidad."
   ]
  },
  {
   "cell_type": "markdown",
   "metadata": {},
   "source": [
    "##### Dataset 2018"
   ]
  },
  {
   "cell_type": "code",
   "execution_count": 26,
   "metadata": {},
   "outputs": [
    {
     "name": "stdout",
     "output_type": "stream",
     "text": [
      "<class 'pandas.core.frame.DataFrame'>\n",
      "RangeIndex: 156 entries, 0 to 155\n",
      "Data columns (total 9 columns):\n",
      " #   Column                        Non-Null Count  Dtype  \n",
      "---  ------                        --------------  -----  \n",
      " 0   Overall rank                  156 non-null    int64  \n",
      " 1   Country or region             156 non-null    object \n",
      " 2   Score                         156 non-null    float64\n",
      " 3   GDP per capita                156 non-null    float64\n",
      " 4   Social support                156 non-null    float64\n",
      " 5   Healthy life expectancy       156 non-null    float64\n",
      " 6   Freedom to make life choices  156 non-null    float64\n",
      " 7   Generosity                    156 non-null    float64\n",
      " 8   Perceptions of corruption     155 non-null    float64\n",
      "dtypes: float64(7), int64(1), object(1)\n",
      "memory usage: 11.1+ KB\n"
     ]
    }
   ],
   "source": [
    "data_2018.info()"
   ]
  },
  {
   "cell_type": "markdown",
   "metadata": {},
   "source": [
    "Se puede ver que en el dataset hay 156 registros y tiene 9 columnas en total. \n",
    "\n",
    "Tiene 1 columnas de tipo object(lo que sugiere que contienen datos categóricos o cadenas de texto). Tiene 1 columna de tipo int64(Columnas de tipo numerico). Tiene 7 columnas de tipo float64(representa numeros con decimales)."
   ]
  },
  {
   "cell_type": "markdown",
   "metadata": {},
   "source": [
    "**Descripcion de Columnas**"
   ]
  },
  {
   "cell_type": "markdown",
   "metadata": {},
   "source": [
    "- **Overall rank:** Este es el rango global de cada país en la lista de felicidad, donde 1 indica el país más feliz.\n",
    "- **Country or region:** El nombre del país o región evaluada.\n",
    "- **Score:** La puntuación de felicidad de cada país en una escala que generalmente va de 0 a 10.\n",
    "- **GDP per capita:** PIB per cápita, que es un indicador del nivel de desarrollo económico.\n",
    "- **Social support:** Mide el nivel de apoyo social disponible para los ciudadanos.\n",
    "- **Healthy life expectancy:** La expectativa de vida saludable, reflejando el bienestar físico y mental de la población.\n",
    "- **Freedom to make life choices:** Mide la libertad que tienen los ciudadanos para tomar decisiones sobre sus vidas.\n",
    "- **Generosity:** Representa el nivel de generosidad de la población, medido a través de donaciones y otras formas de ayuda.\n",
    "- **Perceptions of corruption:** Medida de la percepción de corrupción en el gobierno y las instituciones del país."
   ]
  },
  {
   "cell_type": "markdown",
   "metadata": {},
   "source": [
    "##### Dataset 2019"
   ]
  },
  {
   "cell_type": "code",
   "execution_count": 27,
   "metadata": {},
   "outputs": [
    {
     "name": "stdout",
     "output_type": "stream",
     "text": [
      "<class 'pandas.core.frame.DataFrame'>\n",
      "RangeIndex: 156 entries, 0 to 155\n",
      "Data columns (total 9 columns):\n",
      " #   Column                        Non-Null Count  Dtype  \n",
      "---  ------                        --------------  -----  \n",
      " 0   Overall rank                  156 non-null    int64  \n",
      " 1   Country or region             156 non-null    object \n",
      " 2   Score                         156 non-null    float64\n",
      " 3   GDP per capita                156 non-null    float64\n",
      " 4   Social support                156 non-null    float64\n",
      " 5   Healthy life expectancy       156 non-null    float64\n",
      " 6   Freedom to make life choices  156 non-null    float64\n",
      " 7   Generosity                    156 non-null    float64\n",
      " 8   Perceptions of corruption     156 non-null    float64\n",
      "dtypes: float64(7), int64(1), object(1)\n",
      "memory usage: 11.1+ KB\n"
     ]
    }
   ],
   "source": [
    "data_2019.info()"
   ]
  },
  {
   "cell_type": "markdown",
   "metadata": {},
   "source": [
    "Se puede ver que en el dataset hay 156 registros y tiene 9 columnas en total. \n",
    "\n",
    "Tiene 1 columnas de tipo object(lo que sugiere que contienen datos categóricos o cadenas de texto). Tiene 1 columna de tipo int64(Columnas de tipo numerico). Tiene 7 columnas de tipo float64(representa numeros con decimales)."
   ]
  },
  {
   "cell_type": "markdown",
   "metadata": {},
   "source": [
    "**Descripcion de Columnas**"
   ]
  },
  {
   "cell_type": "markdown",
   "metadata": {},
   "source": [
    "- **Overall rank:** Clasificación general del país o región en términos de felicidad. Un número más bajo indica una mejor posición (por ejemplo, 1 es el país más feliz).\n",
    "- **Country or region:** Nombre del país o la región analizada.\n",
    "- **Score:** Puntaje de felicidad del país en una escala determinada (generalmente de 0 a 10).\n",
    "- **GDP per capita:** Producto Interno Bruto (PIB) per cápita del país, que refleja el nivel de ingresos promedio por persona.\n",
    "- **Social support:** Medida del apoyo social percibido en el país, que puede incluir factores como la red familiar y comunitaria.\n",
    "- **Healthy life expectancy:** Expectativa de vida saludable, que considera los años que una persona puede esperar vivir sin enfermedades graves.\n",
    "- **Freedom to make life choices:** Grado de libertad que tienen los individuos para tomar decisiones que afectan sus vidas.\n",
    "- **Generosity:** Medida de la generosidad de las personas en el país, que puede incluir donaciones y actos altruistas.\n",
    "- **Perceptions of corruption:** Evaluación de la corrupción en el gobierno y las instituciones del país."
   ]
  },
  {
   "cell_type": "markdown",
   "metadata": {},
   "source": [
    "#### Revisamos la presencia de valores nulos en los Datasets \n"
   ]
  },
  {
   "cell_type": "code",
   "execution_count": 31,
   "metadata": {},
   "outputs": [],
   "source": [
    "valores_nulos2015 = data_2015.isnull().sum()\n",
    "valores_nulos2016 = data_2016.isnull().sum()\n",
    "valores_nulos2017 = data_2017.isnull().sum()\n",
    "valores_nulos2018 = data_2018.isnull().sum()\n",
    "valores_nulos2019 = data_2019.isnull().sum()"
   ]
  },
  {
   "cell_type": "code",
   "execution_count": null,
   "metadata": {},
   "outputs": [
    {
     "name": "stdout",
     "output_type": "stream",
     "text": [
      "Valores nulos en 2015:\n",
      " Country                          0\n",
      "Region                           0\n",
      "Happiness Rank                   0\n",
      "Happiness Score                  0\n",
      "Standard Error                   0\n",
      "Economy (GDP per Capita)         0\n",
      "Family                           0\n",
      "Health (Life Expectancy)         0\n",
      "Freedom                          0\n",
      "Trust (Government Corruption)    0\n",
      "Generosity                       0\n",
      "Dystopia Residual                0\n",
      "dtype: int64\n",
      "Valores nulos en 2016:\n",
      " Country                          0\n",
      "Region                           0\n",
      "Happiness Rank                   0\n",
      "Happiness Score                  0\n",
      "Lower Confidence Interval        0\n",
      "Upper Confidence Interval        0\n",
      "Economy (GDP per Capita)         0\n",
      "Family                           0\n",
      "Health (Life Expectancy)         0\n",
      "Freedom                          0\n",
      "Trust (Government Corruption)    0\n",
      "Generosity                       0\n",
      "Dystopia Residual                0\n",
      "dtype: int64\n",
      "Valores nulos en 2017:\n",
      " Country                          0\n",
      "Happiness.Rank                   0\n",
      "Happiness.Score                  0\n",
      "Whisker.high                     0\n",
      "Whisker.low                      0\n",
      "Economy..GDP.per.Capita.         0\n",
      "Family                           0\n",
      "Health..Life.Expectancy.         0\n",
      "Freedom                          0\n",
      "Generosity                       0\n",
      "Trust..Government.Corruption.    0\n",
      "Dystopia.Residual                0\n",
      "dtype: int64\n",
      "Valores nulos en 2018:\n",
      " Overall rank                    0\n",
      "Country or region               0\n",
      "Score                           0\n",
      "GDP per capita                  0\n",
      "Social support                  0\n",
      "Healthy life expectancy         0\n",
      "Freedom to make life choices    0\n",
      "Generosity                      0\n",
      "Perceptions of corruption       1\n",
      "dtype: int64\n",
      "Valores nulos en 2019:\n",
      " Overall rank                    0\n",
      "Country or region               0\n",
      "Score                           0\n",
      "GDP per capita                  0\n",
      "Social support                  0\n",
      "Healthy life expectancy         0\n",
      "Freedom to make life choices    0\n",
      "Generosity                      0\n",
      "Perceptions of corruption       0\n",
      "dtype: int64\n"
     ]
    }
   ],
   "source": [
    "print(\"Valores nulos en 2015:\\n\", valores_nulos2015)\n",
    "print(\"Valores nulos en 2016:\\n\", valores_nulos2016)\n",
    "print(\"Valores nulos en 2017:\\n\", valores_nulos2017)\n",
    "print(\"Valores nulos en 2018:\\n\", valores_nulos2018)\n",
    "print(\"Valores nulos en 2019:\\n\", valores_nulos2019)"
   ]
  },
  {
   "cell_type": "markdown",
   "metadata": {},
   "source": [
    "Tenemos que en los Años 2015, 2016, y 2017: No hay valores nulos. Todos los datos son completos. Sin embargo en el año 2018: Hay 1 valor nulo en la columna \"Perceptions of corruption\" el cual vamos a remplazar por 0 "
   ]
  },
  {
   "cell_type": "code",
   "execution_count": 38,
   "metadata": {},
   "outputs": [
    {
     "name": "stderr",
     "output_type": "stream",
     "text": [
      "C:\\Users\\mirlo\\AppData\\Local\\Temp\\ipykernel_18692\\2700488972.py:1: FutureWarning: A value is trying to be set on a copy of a DataFrame or Series through chained assignment using an inplace method.\n",
      "The behavior will change in pandas 3.0. This inplace method will never work because the intermediate object on which we are setting values always behaves as a copy.\n",
      "\n",
      "For example, when doing 'df[col].method(value, inplace=True)', try using 'df.method({col: value}, inplace=True)' or df[col] = df[col].method(value) instead, to perform the operation inplace on the original object.\n",
      "\n",
      "\n",
      "  data_2018['Perceptions of corruption'].fillna(0, inplace=True)\n"
     ]
    }
   ],
   "source": [
    "data_2018['Perceptions of corruption'].fillna(0, inplace=True)"
   ]
  },
  {
   "cell_type": "markdown",
   "metadata": {},
   "source": [
    "#### Revisamos la presencia de valores duplicados"
   ]
  },
  {
   "cell_type": "code",
   "execution_count": 39,
   "metadata": {},
   "outputs": [],
   "source": [
    "duplicados_2015 = data_2015.duplicated().sum()\n",
    "duplicados_2016 = data_2016.duplicated().sum()\n",
    "duplicados_2017 = data_2017.duplicated().sum()\n",
    "duplicados_2018 = data_2018.duplicated().sum()\n",
    "duplicados_2019 = data_2019.duplicated().sum()"
   ]
  },
  {
   "cell_type": "code",
   "execution_count": 40,
   "metadata": {},
   "outputs": [
    {
     "name": "stdout",
     "output_type": "stream",
     "text": [
      "Valores duplicados en 2015: 0\n",
      "Valores duplicados en 2016: 0\n",
      "Valores duplicados en 2017: 0\n",
      "Valores duplicados en 2018: 0\n",
      "Valores duplicados en 2019: 0\n"
     ]
    }
   ],
   "source": [
    "print(f\"Valores duplicados en 2015: {duplicados_2015}\")\n",
    "print(f\"Valores duplicados en 2016: {duplicados_2016}\")\n",
    "print(f\"Valores duplicados en 2017: {duplicados_2017}\")\n",
    "print(f\"Valores duplicados en 2018: {duplicados_2018}\")\n",
    "print(f\"Valores duplicados en 2019: {duplicados_2019}\")"
   ]
  },
  {
   "cell_type": "markdown",
   "metadata": {},
   "source": [
    "No se encontraron valores duplicados"
   ]
  }
 ],
 "metadata": {
  "kernelspec": {
   "display_name": "venv",
   "language": "python",
   "name": "python3"
  },
  "language_info": {
   "codemirror_mode": {
    "name": "ipython",
    "version": 3
   },
   "file_extension": ".py",
   "mimetype": "text/x-python",
   "name": "python",
   "nbconvert_exporter": "python",
   "pygments_lexer": "ipython3",
   "version": "3.12.4"
  }
 },
 "nbformat": 4,
 "nbformat_minor": 2
}
