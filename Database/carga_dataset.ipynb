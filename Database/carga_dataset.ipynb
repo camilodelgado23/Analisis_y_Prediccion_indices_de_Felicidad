{
 "cells": [
  {
   "cell_type": "markdown",
   "metadata": {},
   "source": [
    "# Carga Dataset "
   ]
  },
  {
   "cell_type": "markdown",
   "metadata": {},
   "source": [
    "En este jupyter notebook se carga el dataset en la tabla creada anterior en la BD "
   ]
  },
  {
   "cell_type": "markdown",
   "metadata": {},
   "source": [
    "#### Cambiamos el directorio raíz del proyecto para facilitar la carga de los datasets y las importaciones"
   ]
  },
  {
   "cell_type": "code",
   "execution_count": 1,
   "metadata": {},
   "outputs": [
    {
     "name": "stdout",
     "output_type": "stream",
     "text": [
      "Directorio de trabajo actual después del cambio: c:\\Users\\mirlo\\workshop3\n"
     ]
    }
   ],
   "source": [
    "import os\n",
    "\n",
    "notebook_dir = os.getcwd()\n",
    "root_dir = os.path.abspath(os.path.join(notebook_dir, '..'))\n",
    "os.chdir(root_dir)\n",
    "\n",
    "print(\"Directorio de trabajo actual después del cambio:\", os.getcwd())"
   ]
  },
  {
   "cell_type": "markdown",
   "metadata": {},
   "source": [
    "Si a este codigo lo ejecutas mas de una vez puede que empiese a pasear por tu directorio lo que puede generar errores en las importaiones, si te ocurre reinicia el Kernel y vuelvelo a ejecutar.\n"
   ]
  },
  {
   "cell_type": "markdown",
   "metadata": {},
   "source": [
    "#### Importamos las Librerias y la conexion"
   ]
  },
  {
   "cell_type": "code",
   "execution_count": 2,
   "metadata": {},
   "outputs": [
    {
     "name": "stdout",
     "output_type": "stream",
     "text": [
      "Attempting to connect to the database...\n",
      "Connection to MySQL database established successfully.\n"
     ]
    }
   ],
   "source": [
    "import pandas as pd  \n",
    "from Database.conexion_db import create_connection\n",
    "connection = create_connection()"
   ]
  },
  {
   "cell_type": "markdown",
   "metadata": {},
   "source": [
    "Puede instalar las librerias ejecutando el siguiente comando en la terminal: pip install -r requirements.txt"
   ]
  },
  {
   "cell_type": "markdown",
   "metadata": {},
   "source": [
    "#### Cargamos nuestro Dataset de predicciones"
   ]
  },
  {
   "cell_type": "code",
   "execution_count": 3,
   "metadata": {},
   "outputs": [],
   "source": [
    "Dataset_Predicciones = pd.read_csv(r'Data\\predicciones_resultados.csv', delimiter=',')"
   ]
  },
  {
   "cell_type": "markdown",
   "metadata": {},
   "source": [
    "#### Lo insertamos en la tabla predicciones "
   ]
  },
  {
   "cell_type": "code",
   "execution_count": 4,
   "metadata": {},
   "outputs": [
    {
     "name": "stdout",
     "output_type": "stream",
     "text": [
      "Datos insertados correctamente en 'predicciones'.\n"
     ]
    }
   ],
   "source": [
    "if connection is not None:\n",
    "    cursor = connection.cursor()\n",
    "\n",
    "    insert_query = \"\"\"\n",
    "    INSERT INTO predicciones (\n",
    "        country_region, region, gdp_per_capita, social_support, \n",
    "        healthy_life_expectancy, freedom_to_make_life_choices, \n",
    "        perceptions_of_corruption, generosity, dystopia_residual, Score_original, Prediccion\n",
    "    )\n",
    "    VALUES (%s, %s, %s, %s, %s, %s, %s, %s, %s, %s, %s)\n",
    "    \"\"\"\n",
    "    \n",
    "    data = Dataset_Predicciones.values.tolist()\n",
    "\n",
    "    try:\n",
    "        cursor.executemany(insert_query, data)\n",
    "        connection.commit()\n",
    "        print(\"Datos insertados correctamente en 'predicciones'.\")\n",
    "    except Exception as e:\n",
    "        print(f\"Error al insertar datos: {e}\")\n",
    "    finally:\n",
    "        cursor.close()\n",
    "        connection.close()"
   ]
  }
 ],
 "metadata": {
  "kernelspec": {
   "display_name": "venv",
   "language": "python",
   "name": "python3"
  },
  "language_info": {
   "codemirror_mode": {
    "name": "ipython",
    "version": 3
   },
   "file_extension": ".py",
   "mimetype": "text/x-python",
   "name": "python",
   "nbconvert_exporter": "python",
   "pygments_lexer": "ipython3",
   "version": "3.12.4"
  }
 },
 "nbformat": 4,
 "nbformat_minor": 2
}
