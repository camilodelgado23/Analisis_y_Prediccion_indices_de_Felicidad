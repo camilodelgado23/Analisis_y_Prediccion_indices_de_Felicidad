{
 "cells": [
  {
   "cell_type": "markdown",
   "metadata": {},
   "source": [
    "# Creacion Tabla Dataset Predicciones "
   ]
  },
  {
   "cell_type": "markdown",
   "metadata": {},
   "source": [
    "En este jupyter notebook se crean la tabla del dataset predicciones_resultados en la Base de datos Relacional MySQL para su posterior carga "
   ]
  },
  {
   "cell_type": "markdown",
   "metadata": {},
   "source": [
    "Puede instalar las librerias ejecutando el siguiente comando en la terminal: pip install -r requirements.txt\n",
    "\n"
   ]
  },
  {
   "cell_type": "markdown",
   "metadata": {},
   "source": [
    "#### Agregamos el directorio raíz al sys.path para permitir importaciones con mayor facilidad"
   ]
  },
  {
   "cell_type": "code",
   "execution_count": 1,
   "metadata": {},
   "outputs": [],
   "source": [
    "import sys\n",
    "import os\n",
    "\n",
    "notebook_dir = os.getcwd()\n",
    "root_dir = os.path.abspath(os.path.join(notebook_dir, '..'))\n",
    "sys.path.append(root_dir)"
   ]
  },
  {
   "cell_type": "markdown",
   "metadata": {},
   "source": [
    "#### Importamos la Conexion"
   ]
  },
  {
   "cell_type": "code",
   "execution_count": 2,
   "metadata": {},
   "outputs": [
    {
     "name": "stdout",
     "output_type": "stream",
     "text": [
      "Attempting to connect to the database...\n",
      "Connection to MySQL database established successfully.\n"
     ]
    }
   ],
   "source": [
    "from Database.conexion_db import create_connection\n",
    "connection = create_connection()"
   ]
  },
  {
   "cell_type": "markdown",
   "metadata": {},
   "source": [
    "#### Creamos la tabla predicciones en nuestra Base de Datos donde insertaremos el dataset "
   ]
  },
  {
   "cell_type": "code",
   "execution_count": 3,
   "metadata": {},
   "outputs": [
    {
     "name": "stdout",
     "output_type": "stream",
     "text": [
      "Tabla 'predicciones' creada correctamente.\n"
     ]
    }
   ],
   "source": [
    "def create_happiness_predictions_table(connection):\n",
    "    create_table_query = \"\"\"\n",
    "    CREATE TABLE IF NOT EXISTS predicciones (\n",
    "        country_region FLOAT NOT NULL,\n",
    "        region FLOAT NOT NULL,\n",
    "        gdp_per_capita FLOAT NOT NULL,\n",
    "        social_support FLOAT NOT NULL,\n",
    "        healthy_life_expectancy FLOAT NOT NULL,\n",
    "        freedom_to_make_life_choices FLOAT NOT NULL,\n",
    "        perceptions_of_corruption FLOAT NOT NULL,\n",
    "        generosity FLOAT NOT NULL,\n",
    "        dystopia_residual FLOAT NOT NULL,\n",
    "        prediction FLOAT NOT NULL\n",
    "    );\n",
    "    \"\"\"\n",
    "    try:\n",
    "        cursor = connection.cursor()\n",
    "        cursor.execute(create_table_query)\n",
    "        connection.commit()\n",
    "        print(\"Tabla 'predicciones' creada correctamente.\")\n",
    "    except Exception as e:\n",
    "        print(f\"An error occurred: {e}\")\n",
    "    finally:\n",
    "        if connection.is_connected():\n",
    "            cursor.close()\n",
    "\n",
    "create_happiness_predictions_table(connection)"
   ]
  }
 ],
 "metadata": {
  "kernelspec": {
   "display_name": "venv",
   "language": "python",
   "name": "python3"
  },
  "language_info": {
   "codemirror_mode": {
    "name": "ipython",
    "version": 3
   },
   "file_extension": ".py",
   "mimetype": "text/x-python",
   "name": "python",
   "nbconvert_exporter": "python",
   "pygments_lexer": "ipython3",
   "version": "3.12.4"
  }
 },
 "nbformat": 4,
 "nbformat_minor": 2
}
